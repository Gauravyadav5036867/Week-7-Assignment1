{
 "cells": [
  {
   "cell_type": "code",
   "execution_count": null,
   "id": "de0326d6-d2e0-460b-be39-8b2c3de32cc6",
   "metadata": {},
   "outputs": [],
   "source": [
    "#Question 1\n",
    "\n",
    "Web scraping is the process of automatically extracting data from websites. This is typically done using software programs or scripts that simulate human web browsing and collect specific information from web pages.\n",
    "\n",
    "Why Web Scraping is Used:\n",
    "Data Collection: Businesses and researchers use web scraping to collect large amounts of data from the web for analysis. This can include market prices, product details, customer reviews, etc.\n",
    "Competitor Analysis: Companies scrape competitors' websites to monitor pricing, product offerings, and promotions.\n",
    "Research: Academics and data scientists scrape web data for research purposes, such as sentiment analysis, trend tracking, and more.\n",
    "Content Aggregation: Websites or apps that provide aggregated data, such as travel fare aggregators, job boards, or real estate listings, often use web scraping to gather data from multiple sources.\n",
    "News Monitoring: Journalists and analysts might use web scraping to monitor news websites and social media for breaking news and trends.\n",
    "SEO and Marketing: Marketers use web scraping to gather data on keywords, backlinks, and other SEO metrics from search engines and competitor sites.\n",
    "\n",
    "Popular uses of data scraping include: Research for web content/business intelligence. Pricing for travel booker sites/price comparison sites. "
   ]
  },
  {
   "cell_type": "code",
   "execution_count": null,
   "id": "53f1c7f4-ada0-4ffe-9ddc-e9db1615c0f6",
   "metadata": {},
   "outputs": [],
   "source": [
    "#Question 2\n",
    "\n",
    "\n",
    "Human copy-and-paste. The simplest form of web scraping is manually copying and pasting data from a web page into a text file or spreadsheet. ...\n",
    "Text pattern matching. ...\n",
    "HTTP programming. ...\n",
    "HTML parsing. ...\n",
    "DOM parsing. ...\n",
    "Vertical aggregation. ...\n",
    "Semantic annotation recognizing. ...\n",
    "Computer vision web-page analysis."
   ]
  },
  {
   "cell_type": "code",
   "execution_count": null,
   "id": "10b0bce6-7a38-490b-979a-d078152f1443",
   "metadata": {},
   "outputs": [],
   "source": [
    "#Question 3\n",
    "\n",
    "Beautiful Soup is a Python library for pulling data out of HTML and XML files. It works with your favorite parser to provide idiomatic ways of navigating, searching, and modifying the parse tree. It commonly saves programmers hours or days of work."
   ]
  },
  {
   "cell_type": "code",
   "execution_count": null,
   "id": "7d96a926-def1-45c0-9d16-6ab2c6934ad7",
   "metadata": {},
   "outputs": [],
   "source": [
    "#Question 4\n",
    "\n",
    "Flask provides a simple and consistent interface to the incoming HTTP request data. From accessing form data, file uploads, cookies, and headers to handling JSON data, Flask's request handling capabilities make it easy to build robust and secure web applications."
   ]
  },
  {
   "cell_type": "code",
   "execution_count": null,
   "id": "6eec3a41-db3c-4d29-913d-a6626e98efcd",
   "metadata": {},
   "outputs": [],
   "source": [
    "#Question 5\n",
    "\n"
   ]
  }
 ],
 "metadata": {
  "kernelspec": {
   "display_name": "Python 3 (ipykernel)",
   "language": "python",
   "name": "python3"
  },
  "language_info": {
   "codemirror_mode": {
    "name": "ipython",
    "version": 3
   },
   "file_extension": ".py",
   "mimetype": "text/x-python",
   "name": "python",
   "nbconvert_exporter": "python",
   "pygments_lexer": "ipython3",
   "version": "3.10.8"
  }
 },
 "nbformat": 4,
 "nbformat_minor": 5
}
